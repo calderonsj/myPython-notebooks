{
 "metadata": {
  "kernelspec": {
   "display_name": "Python 2",
   "language": "python",
   "name": "python2"
  },
  "language_info": {
   "codemirror_mode": {
    "name": "ipython",
    "version": 2
   },
   "file_extension": ".py",
   "mimetype": "text/x-python",
   "name": "python",
   "nbconvert_exporter": "python",
   "pygments_lexer": "ipython2",
   "version": "2.7.11"
  },
  "name": "",
  "signature": "sha256:b6083d8c1680b6dddb9322149e8335bf51f58545a39a72ecaff6b94f75517d91"
 },
 "nbformat": 3,
 "nbformat_minor": 0,
 "worksheets": [
  {
   "cells": [
    {
     "cell_type": "heading",
     "level": 1,
     "metadata": {
      "deletable": true,
      "editable": true
     },
     "source": [
      "Hoja 1. Ejercicios Python"
     ]
    },
    {
     "cell_type": "markdown",
     "metadata": {
      "deletable": true,
      "editable": true
     },
     "source": [
      "En este cuaderno ten\u00e9is una serie de ejercicios para que vay\u00e1is practicando con Python.\n",
      "La base est\u00e1 en lo explicado en clase y en los notebooks [Introducci\u00f3n](intro_plot.ipynb) y [Convecci\u00f3n-1D](conveccion_1d.ipynb)"
     ]
    },
    {
     "cell_type": "markdown",
     "metadata": {
      "deletable": true,
      "editable": true
     },
     "source": [
      "Acord\u00e1os siempre, como primer paso, de cargar los m\u00f3dulos que vay\u00e1is a utilizar"
     ]
    },
    {
     "cell_type": "code",
     "collapsed": true,
     "input": [
      "import numpy as np\n",
      "import matplotlib.pyplot as plt #Esta es otra forma de importar el subm\u00f3dulo pyplot! \n",
      "                                #Igual de v\u00e1lida que la que hemos visto en clase\n",
      "\n",
      "%matplotlib inline"
     ],
     "language": "python",
     "metadata": {
      "deletable": true,
      "editable": true
     },
     "outputs": [],
     "prompt_number": 9
    },
    {
     "cell_type": "heading",
     "level": 3,
     "metadata": {
      "deletable": true,
      "editable": true
     },
     "source": [
      "Ejercicio 1"
     ]
    },
    {
     "cell_type": "markdown",
     "metadata": {
      "deletable": true,
      "editable": true
     },
     "source": [
      "Crea dos vectores, x e y, que contengan 30 y 60 puntos, espaciados en el intervalo $[0,1]$ y $[0,2]$ respectivamente. Usa para ello el comando $\\texttt{np.linspace}$\n"
     ]
    },
    {
     "cell_type": "code",
     "collapsed": false,
     "input": [
      "# Introduce tu c\u00f3digo aqu\u00ed"
     ],
     "language": "python",
     "metadata": {
      "deletable": true,
      "editable": true
     },
     "outputs": [],
     "prompt_number": 10
    },
    {
     "cell_type": "markdown",
     "metadata": {
      "deletable": true,
      "editable": true
     },
     "source": [
      "Chequea el resultado mediante el comando $len()$. Prueba y crea de nuevo los vectores mediante el comando $np.arange$. \u00bfHay diferencia? \u00bfCu\u00e1l?"
     ]
    },
    {
     "cell_type": "markdown",
     "metadata": {
      "deletable": true,
      "editable": true
     },
     "source": [
      "*Pista* : \u00a1Recuerda que puedes encontrar documentaci\u00f3n sobre python, numpy y matplotlib en la web!  \n",
      "<a href=\"https://docs.python.org/2/\">Python Documentation  \n",
      "<a href=\"http://www.numpy.org/\">Numpy  \n",
      "<a href=\"https://matplotlib.org/\">Matplotlib"
     ]
    },
    {
     "cell_type": "heading",
     "level": 3,
     "metadata": {
      "deletable": true,
      "editable": true
     },
     "source": [
      "Ejercicio 2"
     ]
    },
    {
     "cell_type": "markdown",
     "metadata": {
      "deletable": true,
      "editable": true
     },
     "source": [
      "Crea vectores para las funciones $sin(x)$, $exp(-x^2/2)$ y $log(x)$ (\u00a1Logaritmo natural!). Representa en diferentes gr\u00e1ficas cada una de estas funciones frente al eje correspondiente de ordenadas."
     ]
    },
    {
     "cell_type": "code",
     "collapsed": true,
     "input": [
      "# Introduce tu c\u00f3digo aqu\u00ed"
     ],
     "language": "python",
     "metadata": {
      "deletable": true,
      "editable": true
     },
     "outputs": [],
     "prompt_number": 11
    },
    {
     "cell_type": "markdown",
     "metadata": {
      "deletable": true,
      "editable": true
     },
     "source": [
      "Crea un nuevo vector $n * sin(x)$ y representa en un mismo gr\u00e1fico esta funci\u00f3n frente a $sin(x)$"
     ]
    },
    {
     "cell_type": "code",
     "collapsed": true,
     "input": [
      "# Introduce tu c\u00f3digo aqu\u00ed"
     ],
     "language": "python",
     "metadata": {
      "deletable": true,
      "editable": true
     },
     "outputs": [],
     "prompt_number": 12
    },
    {
     "cell_type": "heading",
     "level": 4,
     "metadata": {
      "deletable": true,
      "editable": true
     },
     "source": [
      "Tuneando matplotlib"
     ]
    },
    {
     "cell_type": "markdown",
     "metadata": {
      "deletable": true,
      "editable": true
     },
     "source": [
      "Busca en la documentaci\u00f3n c\u00f3mo a\u00f1adir al gr\u00e1fico etiquetas a los ejes, t\u00edtulos y leyendas. Prueba tambi\u00e9n a cambiar el tama\u00f1o de fuente."
     ]
    },
    {
     "cell_type": "markdown",
     "metadata": {
      "deletable": true,
      "editable": true
     },
     "source": [
      "Cambia el estilo de representaci\u00f3n: cambia el color de las l\u00edneas, su grosor o el tipo de marcador (puntos, cruces, tri\u00e1ngulos, l\u00ednea discontinua, etc.)"
     ]
    },
    {
     "cell_type": "code",
     "collapsed": true,
     "input": [
      "# Introduce tu c\u00f3digo aqu\u00ed"
     ],
     "language": "python",
     "metadata": {
      "deletable": true,
      "editable": true
     },
     "outputs": [],
     "prompt_number": 13
    },
    {
     "cell_type": "markdown",
     "metadata": {
      "deletable": true,
      "editable": true
     },
     "source": [
      "Explora cambiar el rango, y las opciones de representaci\u00f3n de ejes $\\texttt{semilogx}$, $\\texttt{semilogy}$ y $\\texttt{loglog}$ para la funci\u00f3n logaritmo. \u00bfQu\u00e9 diferencias notas?"
     ]
    },
    {
     "cell_type": "code",
     "collapsed": true,
     "input": [
      "# Introduce tu c\u00f3digo aqu\u00ed"
     ],
     "language": "python",
     "metadata": {
      "deletable": true,
      "editable": true
     },
     "outputs": [],
     "prompt_number": 14
    },
    {
     "cell_type": "heading",
     "level": 3,
     "metadata": {
      "deletable": true,
      "editable": true
     },
     "source": [
      "Ejercicio 3"
     ]
    },
    {
     "cell_type": "markdown",
     "metadata": {
      "deletable": true,
      "editable": true
     },
     "source": [
      "Vamos con las estructuras de control: bucles for, while y condionales."
     ]
    },
    {
     "cell_type": "markdown",
     "metadata": {
      "collapsed": true,
      "deletable": true,
      "editable": true
     },
     "source": [
      "Crea un bucle que devuelva el \u00edndice de cada uno de los puntos de la funci\u00f3n $exp(-x^2/2)$."
     ]
    },
    {
     "cell_type": "code",
     "collapsed": true,
     "input": [
      "# Introduce tu c\u00f3digo aqu\u00ed"
     ],
     "language": "python",
     "metadata": {
      "deletable": true,
      "editable": true
     },
     "outputs": [],
     "prompt_number": 16
    },
    {
     "cell_type": "markdown",
     "metadata": {
      "collapsed": true,
      "deletable": true,
      "editable": true
     },
     "source": [
      "Escribe un programa que devuelva el m\u00e1ximo de la funci\u00f3n $sin(x)$ en el intervalo especificado anteriormente."
     ]
    },
    {
     "cell_type": "code",
     "collapsed": true,
     "input": [
      "# Introduce tu c\u00f3digo aqu\u00ed"
     ],
     "language": "python",
     "metadata": {
      "deletable": true,
      "editable": true
     },
     "outputs": [],
     "prompt_number": 17
    },
    {
     "cell_type": "markdown",
     "metadata": {
      "collapsed": true,
      "deletable": true,
      "editable": true
     },
     "source": [
      "Escribe un programa que devuelva si un n\u00famero comprendido en el rango de 1 a 100 es par o impar"
     ]
    },
    {
     "cell_type": "code",
     "collapsed": true,
     "input": [
      "# Introduce tu c\u00f3digo aqu\u00ed"
     ],
     "language": "python",
     "metadata": {
      "deletable": true,
      "editable": true
     },
     "outputs": [],
     "prompt_number": 18
    },
    {
     "cell_type": "markdown",
     "metadata": {
      "collapsed": true,
      "deletable": true,
      "editable": true
     },
     "source": [
      "Crea un programa que devuelva el factorial de un n\u00famero n (El factorial de un n\u00famero es el producto de todos los enteros entre 1 y el propio n\u00famero)"
     ]
    },
    {
     "cell_type": "code",
     "collapsed": true,
     "input": [
      "# Introduce tu c\u00f3digo aqu\u00ed"
     ],
     "language": "python",
     "metadata": {
      "deletable": true,
      "editable": true
     },
     "outputs": [],
     "prompt_number": 19
    },
    {
     "cell_type": "markdown",
     "metadata": {
      "deletable": true,
      "editable": true
     },
     "source": [
      "*Reto*: Explora la posibilidad de crear estos programas mediante la definici\u00f3n de una funci\u00f3n (def)"
     ]
    },
    {
     "cell_type": "heading",
     "level": 3,
     "metadata": {
      "deletable": true,
      "editable": true
     },
     "source": [
      "Ejercicio 4"
     ]
    },
    {
     "cell_type": "markdown",
     "metadata": {
      "deletable": true,
      "editable": true
     },
     "source": [
      "Entramos en la discretizaci\u00f3n de una ecuaci\u00f3n diferencial:"
     ]
    },
    {
     "cell_type": "markdown",
     "metadata": {
      "deletable": true,
      "editable": true
     },
     "source": [
      "La ecuaci\u00f3n de convecci\u00f3n en 1D es:  \n",
      "  \n",
      "  \n",
      "$\\frac{\\partial u}{\\partial t} + c \\frac{\\partial u}{\\partial x}$"
     ]
    },
    {
     "cell_type": "markdown",
     "metadata": {},
     "source": [
      "A esta ecuaci\u00f3n, como vimos, pueden aplic\u00e1rsele diferentes discretizaciones, que dar\u00e1n lugar a resultados diferentes."
     ]
    },
    {
     "cell_type": "markdown",
     "metadata": {},
     "source": [
      "Revisa en primer lugar el notebook [Convecci\u00f3n-1D](conveccion_1d.ipynb). Cambia los par\u00e1metros de discretizaci\u00f3n. \u00bfHay alg\u00fan cambio? \u00bfQu\u00e9 ocurre si aumento la resoluci\u00f3n temporal? \u00bfY la resoluci\u00f3n espacial?"
     ]
    },
    {
     "cell_type": "markdown",
     "metadata": {},
     "source": [
      "Implementa, al igual que se ha hecho con el esquema de diferencias centradas, un esquema de tipo \"backward\". \u00bfMejora o empeora?"
     ]
    },
    {
     "cell_type": "code",
     "collapsed": true,
     "input": [
      "# Introduce tu c\u00f3digo aqu\u00ed"
     ],
     "language": "python",
     "metadata": {},
     "outputs": [],
     "prompt_number": null
    },
    {
     "cell_type": "heading",
     "level": 3,
     "metadata": {},
     "source": [
      "Ejercicio 5"
     ]
    },
    {
     "cell_type": "markdown",
     "metadata": {},
     "source": [
      "Partiendo del esquema \"upwind\", cambia las condiciones iniciales del problema. El campo de velocidades es ahora del tipo:  \n",
      "  \n",
      "$ u (x) = 0.5 \\exp{\\frac{x - 0.5}{2}}$"
     ]
    },
    {
     "cell_type": "code",
     "collapsed": true,
     "input": [
      "# Introduce tu c\u00f3digo aqu\u00ed"
     ],
     "language": "python",
     "metadata": {},
     "outputs": [],
     "prompt_number": null
    },
    {
     "cell_type": "markdown",
     "metadata": {},
     "source": [
      "Repres\u00e9ntalo gr\u00e1ficamente. \u00bfQu\u00e9 ocurre?"
     ]
    },
    {
     "cell_type": "markdown",
     "metadata": {
      "deletable": true,
      "editable": true
     },
     "source": [
      "Puedes probar muchas otras configuraciones..."
     ]
    },
    {
     "cell_type": "heading",
     "level": 3,
     "metadata": {},
     "source": [
      "Ejercicio 6"
     ]
    },
    {
     "cell_type": "markdown",
     "metadata": {},
     "source": [
      "Hasta ahora, no nos hemos preocupado por los nodos inicial y final. Estos nodos son los que se conocen como condiciones de contorno (en 1-D s\u00f3lo tendremos dos nodos, pero en 2-D y 3-D la cosa se complica).  \n",
      "  \n",
      "Existen diferentes condiciones de contorno a aplicar en funci\u00f3n del problema que queramos resolver: Dirichlet, Neumann, Robin, condiciones de entrada, de salida, de simetr\u00eda, peri\u00f3dicas, etc.  \n",
      "  \n",
      "Unas de las m\u00e1s populares son estas \u00faltimas. Las condiciones peri\u00f3dicas establecen que lo que ocurre en nuestro dominio se reproduce exactamente en periodos tanto sucesivos como anteriores. Por tanto, aquello que salga de nuestro dominio debe ser igual a lo que entre."
     ]
    },
    {
     "cell_type": "markdown",
     "metadata": {},
     "source": [
      "Implementa las condiciones peri\u00f3dicas en nuestro problema de convecci\u00f3n. D\u00e9ja correr el problema el tiempo suficiente para ver el efecto de la condici\u00f3n de contorno. \u00bfQu\u00e9 ocurre?"
     ]
    },
    {
     "cell_type": "code",
     "collapsed": true,
     "input": [
      "# Introduce tu c\u00f3digo aqu\u00ed"
     ],
     "language": "python",
     "metadata": {},
     "outputs": [],
     "prompt_number": null
    },
    {
     "cell_type": "markdown",
     "metadata": {},
     "source": [
      "*Reto*: Busca cu\u00e1les son las condiciones de contorno Dirichlet, e implem\u00e9ntalas en los contornos del dominio. La condici\u00f3n inicial es $u (x = 0) = 1$ y $u(x = L) = 0$. Evoluciona la simulaci\u00f3n. \u00bfQu\u00e9 ocurre?"
     ]
    },
    {
     "cell_type": "code",
     "collapsed": true,
     "input": [
      "# Introduce tu c\u00f3digo aqu\u00ed"
     ],
     "language": "python",
     "metadata": {},
     "outputs": [],
     "prompt_number": null
    }
   ],
   "metadata": {}
  }
 ]
}